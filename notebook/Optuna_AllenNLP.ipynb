{
 "cells": [
  {
   "cell_type": "markdown",
   "metadata": {
    "colab_type": "text",
    "id": "view-in-github"
   },
   "source": [
    "<a href=\"https://colab.research.google.com/github/himkt/optuna-allennlp/blob/master/notebook/Optuna_AllenNLP.ipynb\" target=\"_parent\"><img src=\"https://colab.research.google.com/assets/colab-badge.svg\" alt=\"Open In Colab\"/></a>"
   ]
  },
  {
   "cell_type": "code",
   "execution_count": null,
   "metadata": {
    "colab": {},
    "colab_type": "code",
    "id": "fKwE2vkyIfil"
   },
   "outputs": [],
   "source": [
    "!pip install --quiet \"allennlp==v1.1.0rc3\" optuna plotly"
   ]
  },
  {
   "cell_type": "code",
   "execution_count": null,
   "metadata": {
    "colab": {},
    "colab_type": "code",
    "id": "1YknpwLuIkuJ"
   },
   "outputs": [],
   "source": [
    "!wget https://raw.githubusercontent.com/himkt/optuna-allennlp/master/config/imdb_optuna.jsonnet\n",
    "!rm -rf result"
   ]
  },
  {
   "cell_type": "code",
   "execution_count": null,
   "metadata": {
    "colab": {},
    "colab_type": "code",
    "id": "LALcUntMJq5P"
   },
   "outputs": [],
   "source": [
    "import optuna"
   ]
  },
  {
   "cell_type": "code",
   "execution_count": null,
   "metadata": {
    "colab": {},
    "colab_type": "code",
    "id": "s5wo9mDGJlZW"
   },
   "outputs": [],
   "source": [
    "def objective(trial: optuna.Trial) -> float:\n",
    "    trial.suggest_int(\"embedding_dim\", 32, 256)\n",
    "    trial.suggest_int(\"max_filter_size\", 2, 6)\n",
    "    trial.suggest_int(\"num_filters\", 32, 256)\n",
    "    trial.suggest_int(\"output_dim\", 32, 256)\n",
    "    trial.suggest_float(\"dropout\", 0.0, 0.8)\n",
    "    trial.suggest_float(\"lr\", 5e-3, 5e-1, log=True)\n",
    "\n",
    "    executor = optuna.integration.allennlp.AllenNLPExecutor(\n",
    "        trial=trial,  # trial object\n",
    "        config_file=\"./imdb_optuna.jsonnet\",  # jsonnet path\n",
    "        serialization_dir=f\"./result/optuna/{trial.number}\",  # directory for snapshots and logs\n",
    "        metrics=\"best_validation_accuracy\"\n",
    "    )\n",
    "    return executor.run()"
   ]
  },
  {
   "cell_type": "code",
   "execution_count": null,
   "metadata": {
    "colab": {},
    "colab_type": "code",
    "id": "eoK53TYPJupv"
   },
   "outputs": [],
   "source": [
    "study = optuna.create_study(\n",
    "    sampler=optuna.samplers.TPESampler(seed=24),\n",
    "    study_name=\"optuna_allennlp\",\n",
    "    direction=\"maximize\",\n",
    "    pruner=optuna.pruners.HyperbandPruner(),\n",
    ")\n",
    "\n",
    "timeout = 60 * 60 * 10  # timeout (sec): 60*60*10 sec => 10 hours\n",
    "study.optimize(\n",
    "    objective,\n",
    "    n_jobs=1,  # number of processes in parallel execution\n",
    "    n_trials=30,  # number of trials to train a model\n",
    "    timeout=timeout,  # threshold for executing time (sec)\n",
    ")\n",
    "\n",
    "optuna.integration.allennlp.dump_best_config(\"./imdb_optuna.jsonnet\", \"best_imdb_optuna.json\", study)"
   ]
  },
  {
   "cell_type": "code",
   "execution_count": null,
   "metadata": {
    "colab": {},
    "colab_type": "code",
    "id": "zYFHUxUq1e81"
   },
   "outputs": [],
   "source": [
    "study.trials_dataframe()"
   ]
  },
  {
   "cell_type": "code",
   "execution_count": null,
   "metadata": {
    "colab": {},
    "colab_type": "code",
    "id": "_2BOi3Wy1ffz"
   },
   "outputs": [],
   "source": [
    "optuna.visualization.plot_optimization_history(study)"
   ]
  },
  {
   "cell_type": "code",
   "execution_count": null,
   "metadata": {
    "colab": {},
    "colab_type": "code",
    "id": "pwjtV3Ep1k5m"
   },
   "outputs": [],
   "source": [
    "optuna.visualization.plot_param_importances(study)"
   ]
  }
 ],
 "metadata": {
  "accelerator": "GPU",
  "colab": {
   "authorship_tag": "ABX9TyNhf4iEr1+mGC9H756JVix2",
   "collapsed_sections": [],
   "include_colab_link": true,
   "name": "Optuna AllenNLP.ipynb",
   "provenance": []
  },
  "kernelspec": {
   "display_name": "Python 3",
   "language": "python",
   "name": "python3"
  },
  "language_info": {
   "codemirror_mode": {
    "name": "ipython",
    "version": 3
   },
   "file_extension": ".py",
   "mimetype": "text/x-python",
   "name": "python",
   "nbconvert_exporter": "python",
   "pygments_lexer": "ipython3",
   "version": "3.8.5"
  }
 },
 "nbformat": 4,
 "nbformat_minor": 1
}

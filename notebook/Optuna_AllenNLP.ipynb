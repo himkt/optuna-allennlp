{
  "nbformat": 4,
  "nbformat_minor": 0,
  "metadata": {
    "colab": {
      "name": "Optuna AllenNLP.ipynb",
      "provenance": [],
      "collapsed_sections": [],
      "authorship_tag": "ABX9TyNhf4iEr1+mGC9H756JVix2",
      "include_colab_link": true
    },
    "kernelspec": {
      "name": "python3",
      "display_name": "Python 3"
    },
    "accelerator": "GPU"
  },
  "cells": [
    {
      "cell_type": "markdown",
      "metadata": {
        "id": "view-in-github",
        "colab_type": "text"
      },
      "source": [
        "<a href=\"https://colab.research.google.com/github/himkt/optuna-allennlp/blob/master/notebook/Optuna_AllenNLP.ipynb\" target=\"_parent\"><img src=\"https://colab.research.google.com/assets/colab-badge.svg\" alt=\"Open In Colab\"/></a>"
      ]
    },
    {
      "cell_type": "code",
      "metadata": {
        "id": "fKwE2vkyIfil",
        "colab_type": "code",
        "colab": {}
      },
      "source": [
        "!pip install --quiet \"allennlp==v1.1.0rc3\" optuna plotly"
      ],
      "execution_count": null,
      "outputs": []
    },
    {
      "cell_type": "code",
      "metadata": {
        "id": "1YknpwLuIkuJ",
        "colab_type": "code",
        "colab": {}
      },
      "source": [
        "!wget https://raw.githubusercontent.com/himkt/optuna-allennlp/master/config/imdb_optuna.jsonnet\n",
        "!rm -rf result"
      ],
      "execution_count": null,
      "outputs": []
    },
    {
      "cell_type": "code",
      "metadata": {
        "id": "LALcUntMJq5P",
        "colab_type": "code",
        "colab": {}
      },
      "source": [
        "import optuna"
      ],
      "execution_count": null,
      "outputs": []
    },
    {
      "cell_type": "code",
      "metadata": {
        "id": "s5wo9mDGJlZW",
        "colab_type": "code",
        "colab": {}
      },
      "source": [
        "def objective(trial: optuna.Trial) -> float:\n",
        "    trial.suggest_int(\"embedding_dim\", 32, 256)\n",
        "    trial.suggest_int(\"max_filter_size\", 2, 6)\n",
        "    trial.suggest_int(\"num_filters\", 32, 256)\n",
        "    trial.suggest_int(\"output_dim\", 32, 256)\n",
        "    trial.suggest_float(\"dropout\", 0.0, 0.8)\n",
        "    trial.suggest_float(\"lr\", 5e-3, 5e-1, log=True)\n",
        "\n",
        "    executor = optuna.integration.allennlp.AllenNLPExecutor(\n",
        "        trial=trial,  # trial object\n",
        "        config_file=\"./imdb_optuna.jsonnet\",  # jsonnet path\n",
        "        serialization_dir=f\"./result/optuna/{trial.number}\",  # directory for snapshots and logs\n",
        "        metrics=\"best_validation_accuracy\"\n",
        "    )\n",
        "    return executor.run()"
      ],
      "execution_count": null,
      "outputs": []
    },
    {
      "cell_type": "code",
      "metadata": {
        "id": "eoK53TYPJupv",
        "colab_type": "code",
        "colab": {}
      },
      "source": [
        "study = optuna.create_study(\n",
        "    sampler=optuna.samplers.TPESampler(seed=24),\n",
        "    study_name=\"optuna_allennlp\",\n",
        "    direction=\"maximize\",\n",
        ")\n",
        "\n",
        "timeout = 60 * 60 * 10  # timeout (sec): 60*60*10 sec => 10 hours\n",
        "study.optimize(\n",
        "    objective,\n",
        "    n_jobs=1,  # number of processes in parallel execution\n",
        "    n_trials=30,  # number of trials to train a model\n",
        "    timeout=timeout,  # threshold for executing time (sec)\n",
        ")\n",
        "\n",
        "optuna.integration.allennlp.dump_best_config(\"./imdb_optuna.jsonnet\", \"best_imdb_optuna.json\", study)"
      ],
      "execution_count": null,
      "outputs": []
    },
    {
      "cell_type": "code",
      "metadata": {
        "id": "zYFHUxUq1e81",
        "colab_type": "code",
        "colab": {}
      },
      "source": [
        "study.trials_dataframe()"
      ],
      "execution_count": null,
      "outputs": []
    },
    {
      "cell_type": "code",
      "metadata": {
        "id": "_2BOi3Wy1ffz",
        "colab_type": "code",
        "colab": {}
      },
      "source": [
        "optuna.visualization.plot_optimization_history(study)"
      ],
      "execution_count": null,
      "outputs": []
    },
    {
      "cell_type": "code",
      "metadata": {
        "id": "pwjtV3Ep1k5m",
        "colab_type": "code",
        "colab": {}
      },
      "source": [
        "optuna.visualization.plot_param_importances(study)"
      ],
      "execution_count": null,
      "outputs": []
    }
  ]
}
